{
 "cells": [
  {
   "cell_type": "code",
   "execution_count": 12,
   "metadata": {},
   "outputs": [
    {
     "name": "stderr",
     "output_type": "stream",
     "text": [
      "/home/daniaffch/.local/lib/python3.10/site-packages/onnxruntime/capi/onnxruntime_inference_collection.py:69: UserWarning: Specified provider 'CUDAExecutionProvider' is not in available provider names.Available providers: 'AzureExecutionProvider, CPUExecutionProvider'\n",
      "  warnings.warn(\n"
     ]
    },
    {
     "data": {
      "text/plain": [
       "[array([[[[-1.0843205 , -1.0124235 ,  1.378928  , -1.0332285 ],\n",
       "          [ 0.08786759,  0.89308524,  0.08353627, -1.7652359 ],\n",
       "          [ 1.4898183 , -0.23142038, -0.99097645,  2.9111454 ],\n",
       "          [-0.16177253,  1.0100073 ,  1.0265113 , -1.7480404 ]]],\n",
       " \n",
       " \n",
       "        [[[ 0.72634315,  1.4238832 ,  2.4498825 ,  0.9875179 ],\n",
       "          [ 0.87691915,  0.48080948,  0.2957519 , -0.07094944],\n",
       "          [-1.1203796 , -0.58881605,  1.183989  ,  0.31975776],\n",
       "          [ 1.0725328 ,  0.8326568 ,  0.13879967, -0.8952075 ]]]],\n",
       "       dtype=float32)]"
      ]
     },
     "execution_count": 12,
     "metadata": {},
     "output_type": "execute_result"
    }
   ],
   "source": [
    "import torch\n",
    "from torch import nn\n",
    "import onnxruntime as ort\n",
    "\n",
    "\n",
    "class RandLike(nn.Module):\n",
    "    def forward(self, x):\n",
    "        return torch.randn_like(x[:, 0:1], dtype=torch.float32)\n",
    "\n",
    "\n",
    "\n",
    "module = RandLike().cuda().half()\n",
    "dummy_input = torch.randn(2, 3, 4, 4, device='cuda').half()\n",
    "torch.onnx.export(module, dummy_input, \"randlike_2.onnx\", input_names=[\"rand_input\"], output_names=[\"rand_output\"])\n",
    "\n",
    "\n",
    "ort_session = ort.InferenceSession(\"randlike_2.onnx\", providers=[\n",
    "    \"CUDAExecutionProvider\",\n",
    "])\n",
    "ort_session.run([\"rand_output\"], {\"rand_input\": dummy_input.cpu().numpy()})\n"
   ]
  }
 ],
 "metadata": {
  "kernelspec": {
   "display_name": "Python 3",
   "language": "python",
   "name": "python3"
  },
  "language_info": {
   "codemirror_mode": {
    "name": "ipython",
    "version": 3
   },
   "file_extension": ".py",
   "mimetype": "text/x-python",
   "name": "python",
   "nbconvert_exporter": "python",
   "pygments_lexer": "ipython3",
   "version": "3.10.12"
  }
 },
 "nbformat": 4,
 "nbformat_minor": 2
}
